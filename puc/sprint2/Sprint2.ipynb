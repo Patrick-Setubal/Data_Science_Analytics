{
  "nbformat": 4,
  "nbformat_minor": 0,
  "metadata": {
    "colab": {
      "provenance": [],
      "authorship_tag": "ABX9TyN9ibzSfrpMpTVLMRi9j+js",
      "include_colab_link": true
    },
    "kernelspec": {
      "name": "python3",
      "display_name": "Python 3"
    },
    "language_info": {
      "name": "python"
    }
  },
  "cells": [
    {
      "cell_type": "markdown",
      "metadata": {
        "id": "view-in-github",
        "colab_type": "text"
      },
      "source": [
        "<a href=\"https://colab.research.google.com/github/Patrick-Setubal/Data_Science_Analytics/blob/main/puc/sprint2/Sprint2.ipynb\" target=\"_parent\"><img src=\"https://colab.research.google.com/assets/colab-badge.svg\" alt=\"Open In Colab\"/></a>"
      ]
    },
    {
      "cell_type": "markdown",
      "source": [
        "# Requisitos"
      ],
      "metadata": {
        "id": "O8CnZgJfQ8iX"
      }
    },
    {
      "cell_type": "markdown",
      "source": [
        "MVP\n",
        "\n",
        "Treinar 2 Modelos\n",
        "- Treinar modelo clássico de machine learning\n",
        "  - Criação de pipelines\n",
        "  - Coletar o dados\n",
        "  - Preparação dos dados\n",
        "  - Separação entre treino e teste\n",
        "  - Seleção de atributos,\n",
        "  - Transformação de dados,\n",
        "  - Modelagem, otimização de hiperparâmetros,\n",
        "  - Avaliação e comparação de resultados dos modelos treinados.\n",
        "  - Usar cross-validation\n",
        "\n",
        "\n",
        "- Treinar modelo em Deep Learning, Visão computacional\n",
        "  - Coleta dos dados\n",
        "  - Preparação dos dados\n",
        "  - Separação entre treino e teste,\n",
        "  - Modelagem, otimização de hiperparâmetros,\n",
        "  - Valiação e comparação de resultados dos modelos treinados.\n",
        "\n",
        "\n",
        "**Check List**\n",
        "- Definição do Problema\n",
        "  - Qual é a descrição do problema?\n",
        "  - Você tem premissas ou hipóteses sobre o problema? Quais?\n",
        "  - Que restrições ou condições foram impostas para selecionar os dados?\n",
        "  - Descreva o seu dataset (atributos, imagens, anotações, etc).\n",
        "\n",
        "- Preparação de Dados\n",
        "  - Separe o dataset entre treino e teste (e validação, se aplicável).\n",
        "  - Faz sentido utilizar um método de validação cruzada? Justifique se não utilizar.\n",
        "  - Verifique quais operações de transformação de dados (como normalização e padronização, transformação de imagens em tensores) são mais apropriadas para o seu problema e salve visões diferentes do seu dataset para posterior avaliação dos modelos.\n",
        "  - Refine a quantidade de atributos disponíveis, realizando o processo de feature selection de forma adequada.\n",
        "\n",
        "- Modelagem e treinamento:\n",
        "  - Selecione os algoritmos mais indicados para o problema e dataset escolhidos, justificando as suas escolhas.\n",
        "  - Há algum ajuste inicial para os hiperparâmetros?\n",
        "  - O modelo foi devidamente treinado? Foi observado problema de underfitting?\n",
        "  - É possível otimizar os hiperparâmetros de algum dos modelos? Se sim, faça-o, justificando todas as escolhas.\n",
        "  - Há algum método avançado ou mais complexo que possa ser avaliado?\n",
        "  - Posso criar um comitê de modelos diferentes para o problema (ensembles)?\n",
        "\n",
        "- Avaliação de Resultados:\n",
        "\n",
        "  - Selecione as métricas de avaliação condizentes com o problema, justificando.\n",
        "  - Treine o modelo escolhido com toda a base de treino, e teste-o com a base de teste.\n",
        "  - Os resultados fazem sentido?\n",
        "  - Foi observado algum problema de overfitting?\n",
        "  - Compare os resultados de diferentes modelos.\n",
        "  - Descreva a melhor solução encontrada, justificando."
      ],
      "metadata": {
        "id": "amO_ANAuOV_O"
      }
    },
    {
      "cell_type": "markdown",
      "source": [
        "# Definição do Problema"
      ],
      "metadata": {
        "id": "RXn_VCdnRAvP"
      }
    },
    {
      "cell_type": "markdown",
      "source": [
        "Sprint 2\n",
        "\n",
        "https://www.kaggle.com/datasets/shivamb/machine-predictive-maintenance-classification?datasetId=1697740&sortBy=voteCount\n",
        "\n",
        "\n",
        "\n",
        "https://colab.research.google.com/github/dipucriodigital/ciencia-de-dados-e-analytics/blob/main/machine-learning/ML_Aula3b.ipynb#scrollTo=mE4-PIaTAfKX\n",
        "\n",
        "\n",
        "**Dataset:**\n",
        "- **Link Kaggle:** https://www.kaggle.com/datasets/einsteindata4u/covid19\n",
        "- **Name:** Diagnosis of COVID-19 and its clinical spectrum\n",
        "- **Origem:** Dados anônimos de pacientes do Hospital Israelita Albert Einstein, (Brasil - SP). Amostras coletadas para realizar o SARS-CoV-2 RT-PCR e exames laboratoriais adicionais.\n",
        "- **License:** Unknown\n",
        "- **Tamanho:** 5644 Linhas e 111 Colunas\n"
      ],
      "metadata": {
        "id": "1dX98vCmh_DD"
      }
    },
    {
      "cell_type": "code",
      "execution_count": null,
      "metadata": {
        "id": "qvpn_VmSh3NZ"
      },
      "outputs": [],
      "source": []
    }
  ]
}
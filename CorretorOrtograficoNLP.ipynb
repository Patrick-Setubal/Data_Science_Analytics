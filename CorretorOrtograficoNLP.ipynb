{
  "nbformat": 4,
  "nbformat_minor": 0,
  "metadata": {
    "colab": {
      "provenance": [],
      "toc_visible": true,
      "authorship_tag": "ABX9TyMaCvylJzARz8VVNaaYRpsS",
      "include_colab_link": true
    },
    "kernelspec": {
      "name": "python3",
      "display_name": "Python 3"
    },
    "language_info": {
      "name": "python"
    }
  },
  "cells": [
    {
      "cell_type": "markdown",
      "metadata": {
        "id": "view-in-github",
        "colab_type": "text"
      },
      "source": [
        "<a href=\"https://colab.research.google.com/github/Patrick-Setubal/data_science_analytics/blob/main/CorretorOrtograficoNLP.ipynb\" target=\"_parent\"><img src=\"https://colab.research.google.com/assets/colab-badge.svg\" alt=\"Open In Colab\"/></a>"
      ]
    },
    {
      "cell_type": "markdown",
      "source": [
        "# Criando Um Corretor Ortografico NLP"
      ],
      "metadata": {
        "id": "6hIcg6m5hKZu"
      }
    },
    {
      "cell_type": "code",
      "execution_count": 2,
      "metadata": {
        "id": "M0H2LSW0eI8a",
        "colab": {
          "base_uri": "https://localhost:8080/",
          "height": 91
        },
        "outputId": "c4057668-5857-4bfa-8fdf-6f6d7f0a0512"
      },
      "outputs": [
        {
          "output_type": "execute_result",
          "data": {
            "text/plain": [
              "'\\n\\n\\nimagem \\n\\nTemos a seguinte classe que representa um usuário no nosso sistema:\\n\\njava\\n\\nPara salvar um novo usuário, várias validações são feitas, como por exemplo: Ver se o nome só contém letras, [**o CPF só números**] e ver se o usuário possui no mínimo 18 anos. Veja o método que faz essa validação:\\n\\njava \\n\\nSuponha agora que eu tenha outra classe, a classe `Produto`, que contém um atributo nome e eu quero fazer a mesma validação que fiz para o nome do usuário: Ver se só contém letras. E aí? Vou'"
            ],
            "application/vnd.google.colaboratory.intrinsic+json": {
              "type": "string"
            }
          },
          "metadata": {},
          "execution_count": 2
        }
      ],
      "source": [
        "# Importações\n",
        "import requests\n",
        "\n",
        "# Ler Arquivo \"artigos.txt\"\n",
        "link = \"https://raw.githubusercontent.com/Patrick-Setubal/data_science_analytics/main/alura_curso/formacao_data_science/CorretorOrtograficoNLP/artigos.txt\"\n",
        "artigos = requests.get(link).text\n",
        "\n",
        "# Verificando Importação\n",
        "artigos[:500]"
      ]
    },
    {
      "cell_type": "code",
      "source": [
        "# Criar Função que separa as palavras dos tokens\n",
        "def separar_palavras(list_tokens):\n",
        "  lista_palavras = []\n",
        "  for token in list_tokens:\n",
        "    if token.isalpha():\n",
        "      lista_palavras.append(token)\n",
        "  return lista_palavras"
      ],
      "metadata": {
        "id": "4vxbWRF38zwE"
      },
      "execution_count": 18,
      "outputs": []
    },
    {
      "cell_type": "code",
      "source": [
        "# Importar o nltk (Biblioteca para trabalhar com textos)\n",
        "import nltk \n",
        "nltk.download('punkt')\n",
        "list_tokens = nltk.tokenize.word_tokenize(artigos)\n",
        "\n",
        "# Criando Lista de palavras do artigo \n",
        "list_palavras = separar_palavras(list_tokens)\n",
        "print(f\"Possui {len(list_palavras)} palavras\")\n"
      ],
      "metadata": {
        "colab": {
          "base_uri": "https://localhost:8080/"
        },
        "id": "seB0LBCc9ziB",
        "outputId": "86ddfc6d-c30d-4e14-91af-5a5f11cb78dd"
      },
      "execution_count": 22,
      "outputs": [
        {
          "output_type": "stream",
          "name": "stderr",
          "text": [
            "[nltk_data] Downloading package punkt to /root/nltk_data...\n",
            "[nltk_data]   Package punkt is already up-to-date!\n"
          ]
        },
        {
          "output_type": "stream",
          "name": "stdout",
          "text": [
            "Possui 403104 palavras\n"
          ]
        }
      ]
    },
    {
      "cell_type": "code",
      "source": [
        "# Criar função para normalçizar a lista de palavras (tudo Minusculo)\n",
        "def normalizacao(lista_palavras):\n",
        "  lista_normalizada = []\n",
        "  for palavra in lista_palavras:\n",
        "    lista_normalizada.append(palavra.lower())\n",
        "  return lista_normalizada\n",
        "\n",
        "# Criar função para remover palavras duplicadas\n",
        "lista_normalizada = normalizacao(list_palavras)\n",
        "len(set(lista_normalizada))"
      ],
      "metadata": {
        "colab": {
          "base_uri": "https://localhost:8080/"
        },
        "id": "7fAccGV0_Uz0",
        "outputId": "21b62ae9-db4f-4f14-dddd-1165142c8c30"
      },
      "execution_count": 73,
      "outputs": [
        {
          "output_type": "execute_result",
          "data": {
            "text/plain": [
              "18465"
            ]
          },
          "metadata": {},
          "execution_count": 73
        }
      ]
    },
    {
      "cell_type": "code",
      "source": [
        "# Insere letra entre as fatias\n",
        "def insere_letras(fatias):\n",
        "  novas_palavras = []\n",
        "  letras = 'abcdefghijklmnopqrstuvwxyzàáâãèéêìíîòóôõùúûç'\n",
        "  for E, D in fatias:\n",
        "    for letra in letras:\n",
        "      novas_palavras.append(E + letra + D)\n",
        "  return novas_palavras\n",
        "\n",
        "# Gerar palavras \n",
        "def gerador_palavra(palavra):\n",
        "  fatias = []\n",
        "  for i in range(len(palavra)+1):\n",
        "    fatias.append((palavra[:i],palavra[i:]))\n",
        "  \n",
        "  return insere_letras(fatias)\n",
        "\n",
        "\n",
        "frequencia = nltk.FreqDist(lista_normalizada)\n",
        "total_palavras = len(lista_normalizada)\n",
        "\n",
        "def probabilidade(palavra_gerada):\n",
        "  return frequencia[palavra_gerada]/total_palavras\n",
        "\n",
        "def corretor(palavra):\n",
        "  palavras_geradas = gerador_palavra(palavra)\n",
        "  palavra_correta = max(palavras_geradas, key=probabilidade)\n",
        "  return palavra_correta"
      ],
      "metadata": {
        "id": "zKG3Qc9XA88l"
      },
      "execution_count": 72,
      "outputs": []
    },
    {
      "cell_type": "code",
      "source": [
        "def cria_dados_teste(link_arquivo):\n",
        "  lista_palavras_teste = []\n",
        "  f = requests.get(link_arquivo).text.split('\\n')\n",
        "  for linha in f:\n",
        "    if ' ' in linha:\n",
        "      correta, errada = linha.split(' ')\n",
        "      lista_palavras_teste.append((correta, errada))\n",
        "  return lista_palavras_teste\n",
        "\n",
        "link = 'https://raw.githubusercontent.com/Patrick-Setubal/data_science_analytics/main/alura_curso/formacao_data_science/CorretorOrtograficoNLP/palavras.txt'\n",
        "lista_teste = cria_dados_teste(link)\n",
        "\n",
        "def avaliador(testes):\n",
        "  numero_palavras = len(testes)\n",
        "  acertou = 0\n",
        "  for correta, errada in testes:\n",
        "    if correta == corretor(errada):\n",
        "      acertou += 1\n",
        "\n",
        "  taxa_acerto = round(acertou*100/numero_palavras, 2)\n",
        "  print(f'acertou {acertou} de {numero_palavras}')\n",
        "  print(f'taxas acerto e de {taxa_acerto}%')\n",
        "\n",
        "avaliador(lista_teste)\n"
      ],
      "metadata": {
        "colab": {
          "base_uri": "https://localhost:8080/"
        },
        "id": "p44-N2ssG82i",
        "outputId": "838381b3-17da-4332-ca32-c4be32cc638d"
      },
      "execution_count": 74,
      "outputs": [
        {
          "output_type": "stream",
          "name": "stdout",
          "text": [
            "acertou 2 de 186\n",
            "taxas acerto e de 1.08%\n"
          ]
        }
      ]
    },
    {
      "cell_type": "code",
      "source": [],
      "metadata": {
        "id": "fTiTz61iNx9J"
      },
      "execution_count": null,
      "outputs": []
    }
  ]
}